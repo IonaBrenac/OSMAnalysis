{
 "cells": [
  {
   "cell_type": "code",
   "execution_count": null,
   "id": "5e36163b-a47c-404f-8235-0bb22c94a4d7",
   "metadata": {},
   "outputs": [],
   "source": [
    "# url for downloading rawdata: https://storage.gra.cloud.ovh.net/v1/AUTH_32c5d10cb0fe4519b957064a111717e3/bso_dump/bso-publications-latest.csv.gz"
   ]
  },
  {
   "cell_type": "markdown",
   "id": "c5273cad-ad04-411f-81c9-4050e61457b7",
   "metadata": {},
   "source": [
    "# Imports"
   ]
  },
  {
   "cell_type": "code",
   "execution_count": null,
   "id": "863a1124-8d3a-4224-85d3-f59cc4d17f00",
   "metadata": {},
   "outputs": [],
   "source": [
    "# Standard Library imports\n",
    "from pathlib import Path\n",
    "\n",
    "# 3rd party imports\n",
    "import pandas as pd\n",
    "import plotly.io as pio\n",
    "\n",
    "# Local imports\n",
    "import bso_analysis.bsoa_functs as bsof\n",
    "import bso_analysis.bsoa_globals as bsog\n",
    "import bso_analysis.plot_utils as pl\n",
    "import bso_analysis.print_utils as pr\n",
    "import bso_analysis.regexp_globals as rg\n"
   ]
  },
  {
   "cell_type": "markdown",
   "id": "8190355e-142d-40c2-9562-ac5cbe4418d3",
   "metadata": {},
   "source": [
    "# User environment settings"
   ]
  },
  {
   "cell_type": "code",
   "execution_count": null,
   "id": "d91041ea-717c-4cd8-98a3-7adb582ed61c",
   "metadata": {},
   "outputs": [],
   "source": [
    "#%% openning plotly in browser\n",
    "pio.renderers.default='browser'\n",
    "\n",
    "#%% Setting paths\n",
    "\n",
    "# Specific paths to user (user root and working root)\n",
    "user_root = Path.home()\n",
    "wr_path = user_root / Path('Documents') / Path('Iona')\n",
    "\n",
    "# Work paths\n",
    "wf_path = wr_path / Path(bsog.WF_NAME)\n",
    "bso_path = wf_path / Path(bsog.BSO_NAME)\n",
    "sw_path = wf_path / Path(bsog.SW_NAME)\n",
    "\n",
    "print(\"\\nRun completed\")"
   ]
  },
  {
   "cell_type": "markdown",
   "id": "f9cc35e3-5206-4bb3-b51b-875092a42e39",
   "metadata": {},
   "source": [
    "# Input data and analysis period"
   ]
  },
  {
   "cell_type": "code",
   "execution_count": null,
   "id": "5053a727-6258-48e8-8d7d-4c365fbcdd51",
   "metadata": {},
   "outputs": [],
   "source": [
    "#%% Getting BSO data\n",
    "bso_data = bsof.read_bso_data(bso_path)\n",
    "\n",
    "print(\"BSO data columns:\" bso_data.columns)\n",
    "\n",
    "#%% clean year column to have int values, no strings like \"unknown\" (2 occurences) and no date from the future (years >2024 not representative)\n",
    "period = (2013, 2023)\n",
    "years = bsof.set_years_list(bso_data, period)\n",
    "\n",
    "print(\"Analysis years:\", years)\n",
    "\n",
    "print(\"\\nRun completed\")"
   ]
  },
  {
   "cell_type": "markdown",
   "id": "d35b3323-c08a-4c9e-a933-7ccd7535c2bc",
   "metadata": {},
   "source": [
    "# Annual analysis"
   ]
  },
  {
   "cell_type": "code",
   "execution_count": null,
   "id": "b302e659-bafc-4525-8911-003a4bde1bbb",
   "metadata": {
    "tags": []
   },
   "outputs": [],
   "source": [
    "#%% Computing mentions numbers of softwares and languages \n",
    "# using 'year' column and regular expressions on 'software_mentions' column\n",
    "\n",
    "mentions_dict = {}\n",
    "for key, pattern in rg.PATTERN_DICT.items():\n",
    "    mentions_dict[key] = bsof.build_mentions_nbs(bso_data, years=years,\n",
    "                                                 patterns_list=[pattern])\n",
    "mentions_dict['all_python'] = mentions_dict['pylib'] + mentions_dict['python']\n",
    "\n",
    "all_articles_nbs, soft_articles_nbs = bsof.build_articles_nbs(bso_data, years)\n",
    "\n",
    "#%% error bars\n",
    "\n",
    "soft_errors_y_dict = {}\n",
    "all_errors_y_dict = {}\n",
    "for key, mentions_nbs in mentions_dict.items():\n",
    "    soft_errors_y_dict[key] = bsof.compute_errors(mentions_nbs, soft_articles_nbs)\n",
    "    all_errors_y_dict[key] = bsof.compute_errors(mentions_nbs, all_articles_nbs)\n",
    "\n",
    "pr.print_mentions_dict(years, mentions_dict, soft_articles_nbs, all_articles_nbs)\n",
    "pl.plot_nbs_dict('fig0', years, mentions_dict, soft_articles_nbs, soft_errors_y_dict)\n",
    "pl.plot_nbs_dict('fig1', years, mentions_dict, all_articles_nbs, all_errors_y_dict,\n",
    "                 mentions_add_tup=(soft_articles_nbs, 'soft_articles'))\n",
    "\n",
    "print(\"\\nRun completed\")\n"
   ]
  },
  {
   "cell_type": "code",
   "execution_count": null,
   "id": "f0bfde02-7fa0-481c-b5a0-db601ce2baa0",
   "metadata": {},
   "outputs": [],
   "source": [
    "#%% Computing data for softwares creation vs utilisation vs sharing\n",
    "# using 'year', 'software_created', 'software_used' and 'software_shared' columns\n",
    "\n",
    "softwares_dict = bsof.build_softwares_nbs(bso_data, years)\n",
    "\n",
    "pr.print_softwares_dict(years, softwares_dict)\n",
    "pl.plot_nbs_dict('fig2', years, softwares_dict, soft_articles_nbs)\n",
    "\n",
    "print(\"\\nRun completed\")"
   ]
  },
  {
   "cell_type": "code",
   "execution_count": null,
   "id": "137418c5-886a-4820-86c0-2d69264fdb61",
   "metadata": {},
   "outputs": [],
   "source": [
    "#%% Create dataframe of language per years count nb of mentions per softwares per years \n",
    "# using 'year' column and regular expressions on 'software_mentions' column\n",
    "\n",
    "lang_mentions_per_years_df = bsof.build_lang_mentions_data(bso_data, years)\n",
    "\n",
    "pl.plot_bar_df('fig4', lang_mentions_per_years_df, \"years\")\n",
    "\n",
    "print(\"\\nRun completed\")"
   ]
  },
  {
   "cell_type": "markdown",
   "id": "9595d6ca-5dc5-4f2b-98d8-bed3c108e82a",
   "metadata": {},
   "source": [
    "# All period analysis"
   ]
  },
  {
   "cell_type": "code",
   "execution_count": null,
   "id": "3f7de0e4-6e2a-452b-83cd-73dc265bd371",
   "metadata": {},
   "outputs": [],
   "source": [
    "#%% Computing part of each programming languages in softwares mentions\n",
    "# using  regular expressions on 'software_mentions' column\n",
    "\n",
    "lang_mentions = bsof.build_mentions_nbs(bso_data, patterns_list=rg.ALL_LANG_PATTERN_LIST)\n",
    "Lang_mentions_dict = dict(zip(rg.ALL_LANGUAGES_LIST, lang_mentions))\n",
    "\n",
    "#%% Create dataframe of languge and filter them when mentionned 100 times or less\n",
    "lang_df = pd.DataFrame({'languages':rg.ALL_LANGUAGES_LIST, 'languages_mentions':lang_mentions})\n",
    "big_lang_df = lang_df[lang_df['languages_mentions'] > 100]\n",
    "\n",
    "pr.print_lang_mentions(Lang_mentions_dict, big_lang_df)\n",
    "pl.plot_pie_df('fig3', big_lang_df, ['languages', 'languages_mentions'])\n",
    "\n",
    "print(\"\\nRun completed\")"
   ]
  },
  {
   "cell_type": "code",
   "execution_count": null,
   "id": "9735283a-2fff-42ec-903b-e54f4cd74317",
   "metadata": {
    "tags": []
   },
   "outputs": [],
   "source": [
    "#%% Analysing words of titles for articles mentioning softwares\n",
    "# statistics and wordcloud\n",
    "\n",
    "base_sw, french_sw, more_sw_dict = bsof.set_stopwords_info(sw_path)\n",
    "\n",
    "titles_kw_dict = {}\n",
    "wordcloud_dict = {}\n",
    "for sw_key, pattern_keys_list in rg.PATTERN_KEYS_DICT.items():\n",
    "    all_sw = bsof.set_upd_sw(base_sw, french_sw, more_sw_dict[sw_key])\n",
    "    titles_str = bsof.build_titles_str(bso_data, pattern_keys_list)\n",
    "    titles_kw_dict[sw_key] = bsof.build_titles_kw(titles_str, base_sw, all_sw)\n",
    "    wordcloud_dict[sw_key] = bsof.build_word_cloud(titles_str, base_sw, all_sw)    \n",
    "\n",
    "pl.show_wordcloud_dict(wordcloud_dict)\n",
    "\n",
    "#%% Scatter chart of all titles keywords after base_sw remove\n",
    "freq_max = 1000\n",
    "key = 'all'\n",
    "titles_kw_tup = titles_kw_dict[key]\n",
    "full_titles_kw_df = titles_kw_tup[1]\n",
    "pl.plot_pareto_df('fig8', full_titles_kw_df, 'count', freq_max)\n",
    "\n",
    "#%% Scatter chart of Python titles keywords after all_sw remove\n",
    "freq_max = 10\n",
    "key = 'python'\n",
    "titles_kw_tup = titles_kw_dict[key]\n",
    "full_titles_kw_df = titles_kw_tup[1]\n",
    "pl.plot_pareto_df('fig9', full_titles_kw_df, 'count', freq_max)\n",
    "\n",
    "#%% Scatter chart of  python titles keywords after all_sw remove\n",
    "freq_max = 5\n",
    "key = 'matlab'\n",
    "titles_kw_tup = titles_kw_dict[key]\n",
    "full_titles_kw_df = titles_kw_tup[1]\n",
    "pl.plot_pareto_df('fig10', full_titles_kw_df, 'count', freq_max)\n",
    "\n",
    "print(\"\\nRun completed\")\n"
   ]
  },
  {
   "cell_type": "code",
   "execution_count": null,
   "id": "67641c7b-fa9a-438e-b4a1-fcc9c336f200",
   "metadata": {
    "tags": []
   },
   "outputs": [],
   "source": [
    "#%% Analysing classifications of articles mentioning softwares\n",
    "\n",
    "classes_dict = {}\n",
    "for sw_key, pattern_keys_list in rg.PATTERN_KEYS_DICT.items():\n",
    "    classes_dict[sw_key] = bsof.build_bso_classes(bso_data, pattern_keys_list)\n",
    "\n",
    "pl.plot_pie_df('fig5', classes_dict['all'], ['bso_classification', 'count'])\n",
    "pl.plot_bar_nbs_dict('fig6', classes_dict, ['matlab', 'python'], ['bso_classification', 'count'])\n",
    "\n",
    "print(\"\\nRun completed\")"
   ]
  },
  {
   "cell_type": "code",
   "execution_count": null,
   "id": "cc4bbcbb-9a5f-4ec7-a21e-ff3dc69e0472",
   "metadata": {},
   "outputs": [],
   "source": []
  }
 ],
 "metadata": {
  "kernelspec": {
   "display_name": "BSOA",
   "language": "python",
   "name": "bsoa"
  },
  "language_info": {
   "codemirror_mode": {
    "name": "ipython",
    "version": 3
   },
   "file_extension": ".py",
   "mimetype": "text/x-python",
   "name": "python",
   "nbconvert_exporter": "python",
   "pygments_lexer": "ipython3",
   "version": "3.9.7"
  }
 },
 "nbformat": 4,
 "nbformat_minor": 5
}
